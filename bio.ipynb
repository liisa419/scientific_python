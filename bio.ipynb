{
  "nbformat": 4,
  "nbformat_minor": 0,
  "metadata": {
    "colab": {
      "name": "bio.ipynb",
      "provenance": [],
      "collapsed_sections": []
    },
    "kernelspec": {
      "name": "python3",
      "display_name": "Python 3"
    },
    "language_info": {
      "name": "python"
    }
  },
  "cells": [
    {
      "cell_type": "code",
      "metadata": {
        "colab": {
          "base_uri": "https://localhost:8080/"
        },
        "id": "GfdageKkw6y1",
        "outputId": "55966432-5b4c-4893-87f9-4a00ad8e436b"
      },
      "source": [
        "!pip install Bio\n",
        "!pip install SeqUtils"
      ],
      "execution_count": null,
      "outputs": [
        {
          "output_type": "stream",
          "text": [
            "Requirement already satisfied: Bio in /usr/local/lib/python3.7/dist-packages (0.5.0)\n",
            "Requirement already satisfied: requests in /usr/local/lib/python3.7/dist-packages (from Bio) (2.25.1)\n",
            "Requirement already satisfied: biopython>=1.78 in /usr/local/lib/python3.7/dist-packages (from Bio) (1.79)\n",
            "Requirement already satisfied: plac in /usr/local/lib/python3.7/dist-packages (from Bio) (1.1.3)\n",
            "Requirement already satisfied: numpy<1.20 in /usr/local/lib/python3.7/dist-packages (from Bio) (1.19.5)\n",
            "Requirement already satisfied: chardet<5,>=3.0.2 in /usr/local/lib/python3.7/dist-packages (from requests->Bio) (4.0.0)\n",
            "Requirement already satisfied: certifi>=2017.4.17 in /usr/local/lib/python3.7/dist-packages (from requests->Bio) (2020.12.5)\n",
            "Requirement already satisfied: idna<3,>=2.5 in /usr/local/lib/python3.7/dist-packages (from requests->Bio) (2.10)\n",
            "Requirement already satisfied: urllib3<1.27,>=1.21.1 in /usr/local/lib/python3.7/dist-packages (from requests->Bio) (1.26.4)\n",
            "Requirement already satisfied: SeqUtils in /usr/local/lib/python3.7/dist-packages/SeqUtils-1.0.11-py3.7.egg (1.0.11)\n",
            "Requirement already satisfied: bleach==3.3.0 in /usr/local/lib/python3.7/dist-packages (from SeqUtils) (3.3.0)\n",
            "Requirement already satisfied: certifi==2020.12.5 in /usr/local/lib/python3.7/dist-packages (from SeqUtils) (2020.12.5)\n",
            "Requirement already satisfied: chardet==4.0.0 in /usr/local/lib/python3.7/dist-packages (from SeqUtils) (4.0.0)\n",
            "Requirement already satisfied: colorama==0.4.4 in /usr/local/lib/python3.7/dist-packages (from SeqUtils) (0.4.4)\n",
            "Requirement already satisfied: docutils==0.17.1 in /usr/local/lib/python3.7/dist-packages (from SeqUtils) (0.17.1)\n",
            "Requirement already satisfied: environ==1.0 in /usr/local/lib/python3.7/dist-packages (from SeqUtils) (1.0)\n",
            "Requirement already satisfied: idna==2.10 in /usr/local/lib/python3.7/dist-packages (from SeqUtils) (2.10)\n",
            "Requirement already satisfied: importlib-metadata==4.0.1 in /usr/local/lib/python3.7/dist-packages (from SeqUtils) (4.0.1)\n",
            "Requirement already satisfied: keyring==23.0.1 in /usr/local/lib/python3.7/dist-packages (from SeqUtils) (23.0.1)\n",
            "Requirement already satisfied: packaging==20.9 in /usr/local/lib/python3.7/dist-packages (from SeqUtils) (20.9)\n",
            "Requirement already satisfied: pkginfo==1.7.0 in /usr/local/lib/python3.7/dist-packages (from SeqUtils) (1.7.0)\n",
            "Requirement already satisfied: Pygments==2.9.0 in /usr/local/lib/python3.7/dist-packages (from SeqUtils) (2.9.0)\n",
            "Requirement already satisfied: pyparsing==2.4.7 in /usr/local/lib/python3.7/dist-packages (from SeqUtils) (2.4.7)\n",
            "Requirement already satisfied: readme-renderer==29.0 in /usr/local/lib/python3.7/dist-packages (from SeqUtils) (29.0)\n",
            "Requirement already satisfied: requests==2.25.1 in /usr/local/lib/python3.7/dist-packages (from SeqUtils) (2.25.1)\n",
            "Requirement already satisfied: requests-toolbelt==0.9.1 in /usr/local/lib/python3.7/dist-packages (from SeqUtils) (0.9.1)\n",
            "Requirement already satisfied: rfc3986==1.5.0 in /usr/local/lib/python3.7/dist-packages (from SeqUtils) (1.5.0)\n",
            "Requirement already satisfied: six==1.16.0 in /usr/local/lib/python3.7/dist-packages (from SeqUtils) (1.16.0)\n",
            "Requirement already satisfied: tqdm==4.60.0 in /usr/local/lib/python3.7/dist-packages (from SeqUtils) (4.60.0)\n",
            "Requirement already satisfied: twine==3.4.1 in /usr/local/lib/python3.7/dist-packages (from SeqUtils) (3.4.1)\n",
            "Requirement already satisfied: urllib3==1.26.4 in /usr/local/lib/python3.7/dist-packages (from SeqUtils) (1.26.4)\n",
            "Requirement already satisfied: webencodings==0.5.1 in /usr/local/lib/python3.7/dist-packages (from SeqUtils) (0.5.1)\n",
            "Requirement already satisfied: zipp==3.4.1 in /usr/local/lib/python3.7/dist-packages (from SeqUtils) (3.4.1)\n",
            "Requirement already satisfied: typing-extensions>=3.6.4; python_version < \"3.8\" in /usr/local/lib/python3.7/dist-packages (from importlib-metadata==4.0.1->SeqUtils) (3.7.4.3)\n",
            "Requirement already satisfied: jeepney>=0.4.2; sys_platform == \"linux\" in /usr/local/lib/python3.7/dist-packages (from keyring==23.0.1->SeqUtils) (0.6.0)\n",
            "Requirement already satisfied: SecretStorage>=3.2; sys_platform == \"linux\" in /usr/local/lib/python3.7/dist-packages (from keyring==23.0.1->SeqUtils) (3.3.1)\n",
            "Requirement already satisfied: cryptography>=2.0 in /usr/local/lib/python3.7/dist-packages (from SecretStorage>=3.2; sys_platform == \"linux\"->keyring==23.0.1->SeqUtils) (3.4.7)\n",
            "Requirement already satisfied: cffi>=1.12 in /usr/local/lib/python3.7/dist-packages (from cryptography>=2.0->SecretStorage>=3.2; sys_platform == \"linux\"->keyring==23.0.1->SeqUtils) (1.14.5)\n",
            "Requirement already satisfied: pycparser in /usr/local/lib/python3.7/dist-packages (from cffi>=1.12->cryptography>=2.0->SecretStorage>=3.2; sys_platform == \"linux\"->keyring==23.0.1->SeqUtils) (2.20)\n",
            "\u001b[31mERROR: Could not find a version that satisfies the requirement SubsMat (from versions: none)\u001b[0m\n",
            "\u001b[31mERROR: No matching distribution found for SubsMat\u001b[0m\n"
          ],
          "name": "stdout"
        }
      ]
    },
    {
      "cell_type": "code",
      "metadata": {
        "id": "v73kFDhaoUGx"
      },
      "source": [
        "# 1\n",
        "'''\n",
        "Let's remeber how to use dictionaries.\n",
        "Task: return a dictionary where \n",
        "    * keys are IDs of seqs from an input fasta file (prot.fasta),\n",
        "    * key's values are seqs itself. \n",
        "'''\n",
        "\n",
        "def my_own_fasta_parser(inFile):\n",
        "\n",
        "    sequences = {}\n",
        "    seq_id = \"\"\n",
        "    \n",
        "    with open(inFile) as f:\n",
        "        for line in f:\n",
        "            line = line.strip()\n",
        "            if line[0] == \">\":\n",
        "                seq_id = line[1:]\n",
        "            else:\n",
        "                sequences[seq_id] = line\n",
        "    return sequences"
      ],
      "execution_count": null,
      "outputs": []
    },
    {
      "cell_type": "code",
      "metadata": {
        "colab": {
          "base_uri": "https://localhost:8080/"
        },
        "id": "7jXM_YnroxUr",
        "outputId": "25ab418f-472a-4cec-9c24-ae807afc59f1"
      },
      "source": [
        "my_own_fasta_parser(\"prot.fasta\")"
      ],
      "execution_count": null,
      "outputs": [
        {
          "output_type": "execute_result",
          "data": {
            "text/plain": [
              "{'seq0': 'FQTWEEFSRAAEKLYLADPMKVRVVLKYRHVDGNLCIKVTDDLVCLVYRTDQAQDVKKIEKF',\n",
              " 'seq1': 'KYRTWEEFTRAAEKLYQADPMKVRVVLKYRHCDGNLCIKVTDDVVCLLYRTDQAQDVKKIEKFHSQLMRLME LKVTDNKECLKFKTDQAQEAKKMEKLNNIFFTLM',\n",
              " 'seq10': 'FDSWDEFVSKSVELFRNHPDTTRYVVKYRHCEGKLVLKVTDNHECLKFKTDQAQDAKKMEK',\n",
              " 'seq2': 'EEYQTWEEFARAAEKLYLTDPMKVRVVLKYRHCDGNLCMKVTDDAVCLQYKTDQAQDVKKVEKLHGK',\n",
              " 'seq3': 'MYQVWEEFSRAVEKLYLTDPMKVRVVLKYRHCDGNLCIKVTDNSVCLQYKTDQAQDVK',\n",
              " 'seq4': 'EEFSRAVEKLYLTDPMKVRVVLKYRHCDGNLCIKVTDNSVVSYEMRLFGVQKDNFALEHSLL',\n",
              " 'seq5': 'SWEEFAKAAEVLYLEDPMKCRMCTKYRHVDHKLVVKLTDNHTVLKYVTDMAQDVKKIEKLTTLLMR',\n",
              " 'seq6': 'FTNWEEFAKAAERLHSANPEKCRFVTKYNHTKGELVLKLTDDVVCLQYSTNQLQDVKKLEKLSSTLLRSI',\n",
              " 'seq7': 'SWEEFVERSVQLFRGDPNATRYVMKYRHCEGKLVLKVTDDRECLKFKTDQAQDAKKMEKLNNIFF',\n",
              " 'seq8': 'SWDEFVDRSVQLFRADPESTRYVMKYRHCDGKLVLKVTDNKECLKFKTDQAQEAKKMEKLNNIFFTLM',\n",
              " 'seq9': 'KNWEDFEIAAENMYMANPQNCRYTMKYVHSKGHILLKMSDNVKCVQYRAENMPDLKK'}"
            ]
          },
          "metadata": {
            "tags": []
          },
          "execution_count": 3
        }
      ]
    },
    {
      "cell_type": "code",
      "metadata": {
        "id": "H06fiJ1zsEkG"
      },
      "source": [
        "# 2\n",
        "'''\n",
        "We have the same fasta file (prot.fasta).\n",
        "Now we want to get a list with the ids of protein seqs that have \n",
        "a relative frequency higher than a given threshold for a given residue.\n",
        "\n",
        "And don't forget to use my_own_fasta_parser function from a previous task!\n",
        "'''\n",
        "\n",
        "def my_own_residue_abundance(input_file, residue, threshold=0.2):\n",
        "    \n",
        "    seq_ids = []\n",
        "    sequences = my_own_fasta_parser(input_file)\n",
        "\n",
        "    for seq_id, sequence in sequences.items():\n",
        "        if sequence.count(residue)/len(sequence) > threshold:\n",
        "            seq_ids.append(seq_id)\n",
        "\n",
        "    return seq_ids"
      ],
      "execution_count": null,
      "outputs": []
    },
    {
      "cell_type": "code",
      "metadata": {
        "colab": {
          "base_uri": "https://localhost:8080/"
        },
        "id": "ySEzsXYCstbw",
        "outputId": "80f8e7b4-7227-4f22-acf8-e42806471360"
      },
      "source": [
        "my_own_residue_abundance(\"prot.fasta\", \"V\", threshold=0.1)"
      ],
      "execution_count": null,
      "outputs": [
        {
          "output_type": "execute_result",
          "data": {
            "text/plain": [
              "['seq0', 'seq2', 'seq3', 'seq4', 'seq5']"
            ]
          },
          "metadata": {
            "tags": []
          },
          "execution_count": 5
        }
      ]
    },
    {
      "cell_type": "code",
      "metadata": {
        "id": "HGvpLbWatGRR"
      },
      "source": [
        "# 3\n",
        "'''\n",
        "Let's practice in Bio package using.\n",
        "Task:\n",
        "1. read fasta file containing several DNA seqs (nucl.fasta)\n",
        "2. subset seqs that have GC content > 45 and coding protein with aromaticity > 0.01\n",
        "3. write a new fasta file with those protein(!) seqs\n",
        "4. return the percentage of seqs that passed your filter\n",
        "Hint: Bio.SeqIO, Bio.SeqRecord, Bio.SeqUtils\n",
        "'''\n",
        "\n",
        "from Bio import SeqIO, SeqUtils\n",
        "from Bio import SeqRecord\n",
        "from Bio.SeqUtils.ProtParam import ProteinAnalysis\n",
        "\n",
        "def my_own_filtering(input_file, output_file, filt_gc=45, filt_arom=0.125):\n",
        "    \n",
        "    c = 0\n",
        "    res = []\n",
        "    \n",
        "    with open(input_file, \"r\") as content:\n",
        "        \n",
        "        for record in SeqIO.parse(content, \"fasta\"):\n",
        "            c+=1\n",
        "            \n",
        "            # calculating GC\n",
        "            calc_gc = SeqUtils.GC(record.seq)\n",
        "\n",
        "            # calculating aomaticity\n",
        "            prot = record.translate()\n",
        "            x = ProteinAnalysis(str(prot.seq))\n",
        "            calc_arom = x.aromaticity()\n",
        "            \n",
        "            # filtering\n",
        "            if calc_gc >= filt_gc and calc_arom >= filt_arom:\n",
        "                res.append(record)\n",
        "\n",
        "    with open(output_file, 'w+') as f:\n",
        "        SeqIO.write(res, f, 'fasta')\n",
        "    \n",
        "    return len(res) * 100/c"
      ],
      "execution_count": null,
      "outputs": []
    },
    {
      "cell_type": "code",
      "metadata": {
        "colab": {
          "base_uri": "https://localhost:8080/"
        },
        "id": "NNfBjkNkxCyP",
        "outputId": "b15b8515-c46b-48c2-9f7f-a4ea2497cec6"
      },
      "source": [
        "my_own_filtering(\"nucl.fasta\", \"new_file.fasta\", filt_arom=0.01)"
      ],
      "execution_count": null,
      "outputs": [
        {
          "output_type": "stream",
          "text": [
            "/usr/local/lib/python3.7/dist-packages/Bio/Seq.py:2983: BiopythonWarning: Partial codon, len(sequence) not a multiple of three. Explicitly trim the sequence or add trailing N before translation. This may become an error in future.\n",
            "  BiopythonWarning,\n"
          ],
          "name": "stderr"
        },
        {
          "output_type": "execute_result",
          "data": {
            "text/plain": [
              "28.571428571428573"
            ]
          },
          "metadata": {
            "tags": []
          },
          "execution_count": 33
        }
      ]
    },
    {
      "cell_type": "code",
      "metadata": {
        "id": "VIiyS09xyxnD"
      },
      "source": [
        "# 4\n",
        "\"\"\"\n",
        "Continue practicing in Bio package using:\n",
        "Task:\n",
        "complete the following code that should be able to return \n",
        "the best alignment of two amino acid seqs (pairwise2.align.globalds)\n",
        "based on BLOSUM62 matrix from Bio.SubsMat.MatrixInfo.\n",
        "http://rosalind.info/glossary/blosum62/\n",
        "\"\"\"\n",
        "\n",
        "from Bio import pairwise2\n",
        "from Bio.SubsMat import MatrixInfo\n",
        "\n",
        "def balign(first_seq, second_seq):\n",
        "\n",
        "    # Load the matrix\n",
        "    matrix = MatrixInfo.blosum62\n",
        "\n",
        "    # Generate the alignments\n",
        "    alns = pairwise2.align.globalds(first_seq, second_seq, matrix, -10, -1)\n",
        "\n",
        "    # Extract the best alignment (first one in the alns list)\n",
        "    top_aln = alns[0]\n",
        "\n",
        "    # Print the alignment, ...\n",
        "    aln_A, aln_B, score, begin, end = top_aln\n",
        "    print(pairwise2.format_alignment(aln_A, aln_B, score, begin, end))"
      ],
      "execution_count": null,
      "outputs": []
    },
    {
      "cell_type": "code",
      "metadata": {
        "colab": {
          "base_uri": "https://localhost:8080/"
        },
        "id": "okBsYEIG464b",
        "outputId": "9ac032af-1752-441c-d211-bf75887df835"
      },
      "source": [
        "balign('ATTCGT', 'TGT')"
      ],
      "execution_count": 39,
      "outputs": [
        {
          "output_type": "stream",
          "text": [
            "ATTCGT\n",
            ".   ||\n",
            "T---GT\n",
            "  Score=-1\n",
            "\n"
          ],
          "name": "stdout"
        }
      ]
    },
    {
      "cell_type": "code",
      "metadata": {
        "id": "raE-brvf_iu-"
      },
      "source": [
        "# 5\n",
        "\"\"\" You have some DNA sequence: AGTACTAGAGCATTCTATGGAG.\n",
        "Find out which peptides could be created from it and sort them by their length.\n",
        "Use as much Biopython modules as possible.\n",
        "\"\"\"\n",
        "\n",
        "from Bio.Seq import Seq\n",
        "\n",
        "def peptides(dna):\n",
        "    res = []\n",
        "\n",
        "    for i in range(len(dna)):\n",
        "        seq = str(Seq(dna[i:]).transcribe().translate(to_stop=True))\n",
        "        if len(seq) > 1:\n",
        "                  res.append(seq)\n",
        "\n",
        "    res.sort(key = len)\n",
        "    return res"
      ],
      "execution_count": 44,
      "outputs": []
    },
    {
      "cell_type": "code",
      "metadata": {
        "colab": {
          "base_uri": "https://localhost:8080/"
        },
        "id": "VqhRzG82DzXJ",
        "outputId": "0afd3706-1050-42e1-8e1d-d097f88f867c"
      },
      "source": [
        "peptides('AGTACTAGAGCATTCTATGGAG')"
      ],
      "execution_count": 45,
      "outputs": [
        {
          "output_type": "stream",
          "text": [
            "/usr/local/lib/python3.7/dist-packages/Bio/Seq.py:2983: BiopythonWarning: Partial codon, len(sequence) not a multiple of three. Explicitly trim the sequence or add trailing N before translation. This may become an error in future.\n",
            "  BiopythonWarning,\n"
          ],
          "name": "stderr"
        },
        {
          "output_type": "execute_result",
          "data": {
            "text/plain": [
              "['LW',\n",
              " 'YG',\n",
              " 'ME',\n",
              " 'ILW',\n",
              " 'FYG',\n",
              " 'SME',\n",
              " 'SILW',\n",
              " 'AFYG',\n",
              " 'HSME',\n",
              " 'RAFYG',\n",
              " 'EHSME',\n",
              " 'TRAFYG',\n",
              " 'LEHSME',\n",
              " 'STRAFYG',\n",
              " 'VLEHSME']"
            ]
          },
          "metadata": {
            "tags": []
          },
          "execution_count": 45
        }
      ]
    },
    {
      "cell_type": "code",
      "metadata": {
        "id": "SoyL5SxgEUaJ"
      },
      "source": [
        "# 6\n",
        "\"\"\" TASK: Try to create one-line function (without (!!!) using Bio package) \n",
        "that returns reverse complementary to a given sequence. \n",
        "Hint: using dictionary & list comprehensions might be helpful.\n",
        "\"\"\"\n",
        "\n",
        "def rev_compl_one_line(seq):\n",
        "    return \"\".join([{\"A\":\"T\", \"T\":\"A\", \"G\":\"C\", \"C\":\"G\"}[x] for x in seq[::-1]])"
      ],
      "execution_count": 46,
      "outputs": []
    },
    {
      "cell_type": "code",
      "metadata": {
        "id": "5UIvoJyoEl3d",
        "outputId": "79d17aa8-9f1d-4bcc-f02c-617df31e3dff",
        "colab": {
          "base_uri": "https://localhost:8080/",
          "height": 37
        }
      },
      "source": [
        "rev_compl_one_line('AGTACTAGAGCATTCTATGGAG')"
      ],
      "execution_count": 47,
      "outputs": [
        {
          "output_type": "execute_result",
          "data": {
            "application/vnd.google.colaboratory.intrinsic+json": {
              "type": "string"
            },
            "text/plain": [
              "'CTCCATAGAATGCTCTAGTACT'"
            ]
          },
          "metadata": {
            "tags": []
          },
          "execution_count": 47
        }
      ]
    }
  ]
}