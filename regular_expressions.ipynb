{
  "nbformat": 4,
  "nbformat_minor": 0,
  "metadata": {
    "colab": {
      "name": "HW1.ipynb",
      "provenance": [],
      "collapsed_sections": []
    },
    "kernelspec": {
      "name": "python3",
      "display_name": "Python 3"
    },
    "language_info": {
      "name": "python"
    }
  },
  "cells": [
    {
      "cell_type": "code",
      "metadata": {
        "id": "pT8TJlUlwuPB"
      },
      "source": [
        "import re"
      ],
      "execution_count": 1,
      "outputs": []
    },
    {
      "cell_type": "markdown",
      "metadata": {
        "id": "riIUeMJvMCRu"
      },
      "source": [
        "**Removing of duplicated letters**"
      ]
    },
    {
      "cell_type": "code",
      "metadata": {
        "colab": {
          "base_uri": "https://localhost:8080/",
          "height": 35
        },
        "id": "mSRYFB3y0BJN",
        "outputId": "3381dc4a-bef8-47b3-c775-19a5dd8989d9"
      },
      "source": [
        "s = 'jdkaaudheywww'\n",
        "\n",
        "re.compile(r'(.)\\1{1,}', re.IGNORECASE).sub(r'\\1', s)"
      ],
      "execution_count": 2,
      "outputs": [
        {
          "output_type": "execute_result",
          "data": {
            "application/vnd.google.colaboratory.intrinsic+json": {
              "type": "string"
            },
            "text/plain": [
              "'jdkaudheyw'"
            ]
          },
          "metadata": {
            "tags": []
          },
          "execution_count": 2
        }
      ]
    },
    {
      "cell_type": "markdown",
      "metadata": {
        "id": "M_f5Njh2MIej"
      },
      "source": [
        "**Editing of species names #1**"
      ]
    },
    {
      "cell_type": "code",
      "metadata": {
        "colab": {
          "base_uri": "https://localhost:8080/"
        },
        "id": "90aTwPTA1wmt",
        "outputId": "3c24d39a-03c0-45c1-abfc-261ba62ec9bd"
      },
      "source": [
        "mouse = 'Mus musculus'\n",
        "agalma = 'Agalma elegans'\n",
        "frilla = 'Frillagalma vityazi'\n",
        "corda = 'Cordagalma tottoni'\n",
        "animals = [mouse, agalma, frilla, corda]\n",
        "\n",
        "short = re.compile(r\"(?<=[A-Z])\\w+\")\n",
        "\n",
        "for animal in animals:\n",
        "  print(re.sub(short, r\". \", animal))"
      ],
      "execution_count": 3,
      "outputs": [
        {
          "output_type": "stream",
          "text": [
            "M.  musculus\n",
            "A.  elegans\n",
            "F.  vityazi\n",
            "C.  tottoni\n"
          ],
          "name": "stdout"
        }
      ]
    },
    {
      "cell_type": "markdown",
      "metadata": {
        "id": "lkb_JQSWMm3f"
      },
      "source": [
        "**Editing of species names #2**"
      ]
    },
    {
      "cell_type": "code",
      "metadata": {
        "colab": {
          "base_uri": "https://localhost:8080/"
        },
        "id": "CYsVAOD_81q9",
        "outputId": "3587fb88-ff63-4a3f-d8ca-7d465d2452c5"
      },
      "source": [
        "mouse_2 = 'Mus musculus (Y456)'\n",
        "agalma_2 = 'Agalma elegans (AB34)'\n",
        "animals_2 = [mouse_2, agalma_2, frilla, corda]\n",
        "\n",
        "short_2 = re.compile(r\"(\\w).*\\s(\\w+)\\s*\\(*(\\w*)\\)*\")\n",
        "\n",
        "for animal in animals_2:\n",
        "  print(re.sub(short_2, r\"\\1.\\2 \\3\", animal))"
      ],
      "execution_count": 4,
      "outputs": [
        {
          "output_type": "stream",
          "text": [
            "M.musculus Y456\n",
            "A.elegans AB34\n",
            "F.vityazi \n",
            "C.tottoni \n"
          ],
          "name": "stdout"
        }
      ]
    },
    {
      "cell_type": "markdown",
      "metadata": {
        "id": "Lu4ayHuaMpoa"
      },
      "source": [
        "**Searching for active site of isocitrate lyase**"
      ]
    },
    {
      "cell_type": "code",
      "metadata": {
        "colab": {
          "base_uri": "https://localhost:8080/"
        },
        "id": "g7YVNYFQM8NS",
        "outputId": "e240113b-924e-4f9b-c895-3d46253f3c30"
      },
      "source": [
        "active_site_seq = re.compile(r'K[KR]CGH[LMQR]')\n",
        "id = 'QJY94749.1' # isocitrate lyase [Escherichia coli]\n",
        "sequence = 'MKTRTQQIEELQKEWTQPRWEGITRPYSAEDVVKLRGSVNPECTLAQLGAAKMWRLLHGESKKGYINSLG\\\n",
        "ALTGGQALQQAKAGIEAVYLSGWQVAADANLAASMYPDQSLYPANSVPAVVERINNTFRRADQIQWSAGI\\\n",
        "EPGDPRYVDYFLPIVADAEAGFGGVLNAFELMKAMIEAGAAAVHFEDQLASVKKCGHMGGKVLVPTQEAI\\\n",
        "QKLVAARLAADVTGVPTLLVARTDADAADLITSDCDPYDSEFITGERTSEGFFRTHAGIEQAISRGLAYA\\\n",
        "PYADLVWCETSTPDLELARRFAQAIHAKYPGKLLAYNCSPSFNWQKNLDDKTIASFQQQLSDMGYKFQFI\\\n",
        "TLAGIHSMWFNMFDLANAYAQGEGMKHYVEKVQQPEFAAAKDGYTFVSHQQEVGTGYFDKVTTIIQGGTS\\\n",
        "SVTALTGSTEESQF'\n",
        "\n",
        "site = active_site_seq.search(sequence)\n",
        "\n",
        "print(f\"Isocitrate lyase {id} contains its active site {site.group()} \\\n",
        "starting from {site.start() + 1}th position.\")"
      ],
      "execution_count": 6,
      "outputs": [
        {
          "output_type": "stream",
          "text": [
            "Isocitrate lyase QJY94749.1 contains its active site KKCGHM starting from 193th position.\n"
          ],
          "name": "stdout"
        }
      ]
    }
  ]
}
