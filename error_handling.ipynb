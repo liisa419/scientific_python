{
  "nbformat": 4,
  "nbformat_minor": 0,
  "metadata": {
    "colab": {
      "name": "error_handling.ipynb",
      "provenance": []
    },
    "kernelspec": {
      "name": "python3",
      "display_name": "Python 3"
    },
    "language_info": {
      "name": "python"
    }
  },
  "cells": [
    {
      "cell_type": "markdown",
      "metadata": {
        "id": "FLnQ09jfZdRU"
      },
      "source": [
        "Our aim in this problem is to determine the probability with which a given motif (a known promoter, say) occurs in a randomly constructed genome. Unfortunately, finding this probability is tricky; instead of forming a long genome, we will form a large collection of smaller random strings having the same length as the motif; these smaller strings represent the genome's substrings, which we can then test against our motif.\n",
        "\n",
        "Given a probabilistic event A, the complement of A is the collection Ac of outcomes not belonging to A. Because Ac takes place precisely when A does not, we may also call Ac \"not A.\"\n",
        "\n",
        "For a simple example, if A\n",
        "is the event that a rolled die is 2 or 4, then Pr(A)=13. Ac is the event that the die is 1, 3, 5, or 6, and Pr(Ac)=23. In general, for any event we will have the identity that Pr(A)+Pr(Ac)=1.\n",
        "\n",
        "Given: A positive integer N≤100000, a number x between 0 and 1, and a DNA string s of length at most 10 bp.\n",
        "\n",
        "Return: The probability that if N\n",
        "random DNA strings having the same length as s are constructed with GC-content x (see “Introduction to Random Strings”), then at least one of the strings equals s. We allow for the same random string to be created more than once"
      ]
    },
    {
      "cell_type": "code",
      "metadata": {
        "id": "vGkRnv8hYCPC"
      },
      "source": [
        "import re\n",
        "\n",
        "import numpy as np\n",
        "from scipy.stats import binom"
      ],
      "execution_count": 1,
      "outputs": []
    },
    {
      "cell_type": "code",
      "metadata": {
        "id": "4FZxDUlNY692"
      },
      "source": [
        "s = 'ATAGCCGA'\n",
        "prob = 0.6\n",
        "n = 90000"
      ],
      "execution_count": 2,
      "outputs": []
    },
    {
      "cell_type": "code",
      "metadata": {
        "colab": {
          "base_uri": "https://localhost:8080/"
        },
        "id": "NXRtBC-DaRBm",
        "outputId": "6e9f20f8-aed9-4318-a971-b0f4c851898e"
      },
      "source": [
        "def calc(s, prob, n):\n",
        "    \n",
        "    gc = lambda s: len(re.findall(r\"[GC]\", s))\n",
        "    str_prob = (prob / 2)**gc(s) * ((1 - prob) / 2)**(len(s) - gc(s))\n",
        "    ans = 1 - (1 - str_prob) ** n\n",
        "\n",
        "    return round(ans, 3)\n",
        "\n",
        "calc(s,prob, n)"
      ],
      "execution_count": 4,
      "outputs": [
        {
          "output_type": "execute_result",
          "data": {
            "text/plain": [
              "0.689"
            ]
          },
          "metadata": {
            "tags": []
          },
          "execution_count": 4
        }
      ]
    }
  ]
}