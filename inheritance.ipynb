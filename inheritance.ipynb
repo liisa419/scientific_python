{
  "nbformat": 4,
  "nbformat_minor": 0,
  "metadata": {
    "colab": {
      "name": "inheritance.ipynb",
      "provenance": []
    },
    "kernelspec": {
      "name": "python3",
      "display_name": "Python 3"
    },
    "language_info": {
      "name": "python"
    }
  },
  "cells": [
    {
      "cell_type": "code",
      "metadata": {
        "id": "Yam7z8t5bo06"
      },
      "source": [
        "import json"
      ],
      "execution_count": 1,
      "outputs": []
    },
    {
      "cell_type": "code",
      "metadata": {
        "colab": {
          "base_uri": "https://localhost:8080/"
        },
        "id": "_XnnJs1rl02-",
        "outputId": "cf02d794-c368-416b-b9d6-ea5ea07cb580"
      },
      "source": [
        "first_example = json.loads(input())\n",
        "second_example = json.loads(input())"
      ],
      "execution_count": 9,
      "outputs": [
        {
          "output_type": "stream",
          "text": [
            "[{\"name\": \"A\", \"parents\": []}, {\"name\": \"B\", \"parents\": [\"A\", \"C\"]}, {\"name\": \"C\", \"parents\": [\"A\"]}]\n",
            "[{\"name\": \"B\", \"parents\": [\"A\", \"C\"]}, {\"name\": \"C\", \"parents\": [\"A\"]}, {\"name\": \"A\", \"parents\": []}, {\"name\": \"D\", \"parents\":[\"C\", \"F\"]}, {\"name\": \"E\", \"parents\":[\"D\"]}, {\"name\": \"F\", \"parents\":[]}]\n"
          ],
          "name": "stdout"
        }
      ]
    },
    {
      "cell_type": "code",
      "metadata": {
        "id": "8nDMd4hhkrVe"
      },
      "source": [
        "def add_descendants(parent, descendant, descendants):\n",
        "\t\tfor item in descendants[descendant]:\n",
        "\t\t\tif item not in descendants[parent]:\n",
        "\t\t\t\tdescendants[parent].append(item)\n",
        "\t\t\tadd_descendants(parent, item, descendants)\n",
        "\n",
        "def cnt(data):\n",
        "\tdescendants = {}\n",
        "\n",
        "\tfor item in data:\n",
        "\t\tdescendants[item[\"name\"]] = []\n",
        "\tfor item in data:\t\t\n",
        "\t\tfor parent in item[\"parents\"]:\n",
        "\t\t\tdescendants[parent].append(item[\"name\"])\t\n",
        "\tfor parent in descendants.keys():\n",
        "\t \tadd_descendants(parent, parent, descendants)\n",
        "\tfor parent in sorted(descendants.keys()):\n",
        "\t\tprint(parent, ':', len(descendants[parent]) + 1)"
      ],
      "execution_count": 15,
      "outputs": []
    },
    {
      "cell_type": "code",
      "metadata": {
        "colab": {
          "base_uri": "https://localhost:8080/"
        },
        "id": "XOWPSTN4lMAu",
        "outputId": "0b493b93-abe3-4c3c-c7a9-0efafb67b9c0"
      },
      "source": [
        "cnt(first_example)"
      ],
      "execution_count": 16,
      "outputs": [
        {
          "output_type": "stream",
          "text": [
            "A : 3\n",
            "B : 1\n",
            "C : 2\n"
          ],
          "name": "stdout"
        }
      ]
    },
    {
      "cell_type": "code",
      "metadata": {
        "colab": {
          "base_uri": "https://localhost:8080/"
        },
        "id": "7gPTVGZ2mP6r",
        "outputId": "09cbeb2e-0614-4084-c530-51847e78e66f"
      },
      "source": [
        "cnt(second_example)"
      ],
      "execution_count": 18,
      "outputs": [
        {
          "output_type": "stream",
          "text": [
            "A : 5\n",
            "B : 1\n",
            "C : 4\n",
            "D : 2\n",
            "E : 1\n",
            "F : 3\n"
          ],
          "name": "stdout"
        }
      ]
    }
  ]
}