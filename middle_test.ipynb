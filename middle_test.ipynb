{
  "nbformat": 4,
  "nbformat_minor": 0,
  "metadata": {
    "colab": {
      "name": "middle_test.ipynb",
      "provenance": []
    },
    "kernelspec": {
      "name": "python3",
      "display_name": "Python 3"
    },
    "language_info": {
      "name": "python"
    }
  },
  "cells": [
    {
      "cell_type": "code",
      "metadata": {
        "colab": {
          "base_uri": "https://localhost:8080/"
        },
        "id": "0vBQr6bjGUr3",
        "outputId": "a4c2e911-6ca6-4c60-ffa0-65a99bd5e79d"
      },
      "source": [
        "!pip install cobra"
      ],
      "execution_count": 8,
      "outputs": [
        {
          "output_type": "stream",
          "text": [
            "Collecting cobra\n",
            "\u001b[?25l  Downloading https://files.pythonhosted.org/packages/c5/04/f785d34e11b42b21c101130d60324c90f58a612f49a6f95e1747f0f05ca1/cobra-0.22.0-py2.py3-none-any.whl (2.4MB)\n",
            "\u001b[K     |████████████████████████████████| 2.4MB 6.4MB/s \n",
            "\u001b[?25hCollecting optlang~=1.5\n",
            "\u001b[?25l  Downloading https://files.pythonhosted.org/packages/12/3e/9d0b72cf5a8ff660e5787a0797906e04942081f3ad4a95f860488affff2b/optlang-1.5.2-py2.py3-none-any.whl (147kB)\n",
            "\u001b[K     |████████████████████████████████| 153kB 44.1MB/s \n",
            "\u001b[?25hCollecting ruamel.yaml~=0.16\n",
            "\u001b[?25l  Downloading https://files.pythonhosted.org/packages/29/4e/c3105bbbbc662f6a671a505f00ec771e93b5254f09fbb06002af9087071a/ruamel.yaml-0.17.4-py3-none-any.whl (101kB)\n",
            "\u001b[K     |████████████████████████████████| 102kB 11.1MB/s \n",
            "\u001b[?25hCollecting swiglpk\n",
            "\u001b[?25l  Downloading https://files.pythonhosted.org/packages/80/48/ff3ce61567f667629268b272d4c57f980ff0a8d4bdf991a593be12384186/swiglpk-5.0.3-cp37-cp37m-manylinux2010_x86_64.whl (2.1MB)\n",
            "\u001b[K     |████████████████████████████████| 2.1MB 31.6MB/s \n",
            "\u001b[?25hCollecting python-libsbml==5.19.0\n",
            "\u001b[?25l  Downloading https://files.pythonhosted.org/packages/93/13/2df22b77ee9125381a00aa4dc63de1776bb84d773655d2770416e81416cd/python_libsbml-5.19.0-cp37-cp37m-manylinux1_x86_64.whl (6.2MB)\n",
            "\u001b[K     |████████████████████████████████| 6.2MB 13.6MB/s \n",
            "\u001b[?25hCollecting httpx~=0.14\n",
            "\u001b[?25l  Downloading https://files.pythonhosted.org/packages/04/69/17b725b1bfe63228369cddf50206381eadb14bc46b933a864ae93ea1b9bf/httpx-0.18.1-py3-none-any.whl (75kB)\n",
            "\u001b[K     |████████████████████████████████| 81kB 10.3MB/s \n",
            "\u001b[?25hRequirement already satisfied: importlib-resources in /usr/local/lib/python3.7/dist-packages (from cobra) (5.1.2)\n",
            "Collecting pydantic~=1.6\n",
            "\u001b[?25l  Downloading https://files.pythonhosted.org/packages/2b/a3/0ffdb6c63f45f10d19b8e8b32670b22ed089cafb29732f6bf8ce518821fb/pydantic-1.8.1-cp37-cp37m-manylinux2014_x86_64.whl (10.1MB)\n",
            "\u001b[K     |████████████████████████████████| 10.1MB 19.9MB/s \n",
            "\u001b[?25hCollecting rich>=8.0\n",
            "\u001b[?25l  Downloading https://files.pythonhosted.org/packages/1a/da/2a1f064dc620ab47f3f826ae085384084b71ea05c8c21d67f1dfc29189ab/rich-10.1.0-py3-none-any.whl (201kB)\n",
            "\u001b[K     |████████████████████████████████| 204kB 50.6MB/s \n",
            "\u001b[?25hRequirement already satisfied: appdirs~=1.4 in /usr/local/lib/python3.7/dist-packages (from cobra) (1.4.4)\n",
            "Requirement already satisfied: future in /usr/local/lib/python3.7/dist-packages (from cobra) (0.16.0)\n",
            "Requirement already satisfied: pandas~=1.0 in /usr/local/lib/python3.7/dist-packages (from cobra) (1.1.5)\n",
            "Requirement already satisfied: numpy~=1.13 in /usr/local/lib/python3.7/dist-packages (from cobra) (1.19.5)\n",
            "Collecting diskcache~=5.0\n",
            "\u001b[?25l  Downloading https://files.pythonhosted.org/packages/6a/5e/3deb8f9c83bead2af6f2cda97c4400516488464fede2853875a81e502953/diskcache-5.2.1-py3-none-any.whl (44kB)\n",
            "\u001b[K     |████████████████████████████████| 51kB 188kB/s \n",
            "\u001b[?25hCollecting depinfo\n",
            "  Downloading https://files.pythonhosted.org/packages/af/8b/cee6dca4c4708705444c9cad9e783b9212cc51cab8a5e05ccfe930f53058/depinfo-1.7.0-py2.py3-none-any.whl\n",
            "Requirement already satisfied: six>=1.9 in /usr/local/lib/python3.7/dist-packages (from optlang~=1.5->cobra) (1.15.0)\n",
            "Requirement already satisfied: sympy>=1.0 in /usr/local/lib/python3.7/dist-packages (from optlang~=1.5->cobra) (1.7.1)\n",
            "Collecting ruamel.yaml.clib>=0.1.2; platform_python_implementation == \"CPython\" and python_version < \"3.10\"\n",
            "\u001b[?25l  Downloading https://files.pythonhosted.org/packages/5e/6e/f652c56bbb2c3d3fca252ffc7c0358597f57a1bbdf484dac683054950c63/ruamel.yaml.clib-0.2.2-cp37-cp37m-manylinux1_x86_64.whl (547kB)\n",
            "\u001b[K     |████████████████████████████████| 552kB 56.9MB/s \n",
            "\u001b[?25hCollecting sniffio\n",
            "  Downloading https://files.pythonhosted.org/packages/52/b0/7b2e028b63d092804b6794595871f936aafa5e9322dcaaad50ebf67445b3/sniffio-1.2.0-py3-none-any.whl\n",
            "Collecting rfc3986[idna2008]<2,>=1.3\n",
            "  Downloading https://files.pythonhosted.org/packages/c4/e5/63ca2c4edf4e00657584608bee1001302bbf8c5f569340b78304f2f446cb/rfc3986-1.5.0-py2.py3-none-any.whl\n",
            "Collecting httpcore<0.14.0,>=0.13.0\n",
            "\u001b[?25l  Downloading https://files.pythonhosted.org/packages/7a/89/29a26a8086268a8043b1fd0228a463bab99990d77fdfaa8a2bd07117851a/httpcore-0.13.3-py3-none-any.whl (57kB)\n",
            "\u001b[K     |████████████████████████████████| 61kB 9.1MB/s \n",
            "\u001b[?25hRequirement already satisfied: certifi in /usr/local/lib/python3.7/dist-packages (from httpx~=0.14->cobra) (2020.12.5)\n",
            "Requirement already satisfied: zipp>=0.4; python_version < \"3.8\" in /usr/local/lib/python3.7/dist-packages (from importlib-resources->cobra) (3.4.1)\n",
            "Requirement already satisfied: typing-extensions>=3.7.4.3 in /usr/local/lib/python3.7/dist-packages (from pydantic~=1.6->cobra) (3.7.4.3)\n",
            "Collecting colorama<0.5.0,>=0.4.0\n",
            "  Downloading https://files.pythonhosted.org/packages/44/98/5b86278fbbf250d239ae0ecb724f8572af1c91f4a11edf4d36a206189440/colorama-0.4.4-py2.py3-none-any.whl\n",
            "Collecting commonmark<0.10.0,>=0.9.0\n",
            "\u001b[?25l  Downloading https://files.pythonhosted.org/packages/b1/92/dfd892312d822f36c55366118b95d914e5f16de11044a27cf10a7d71bbbf/commonmark-0.9.1-py2.py3-none-any.whl (51kB)\n",
            "\u001b[K     |████████████████████████████████| 51kB 7.8MB/s \n",
            "\u001b[?25hRequirement already satisfied: pygments<3.0.0,>=2.6.0 in /usr/local/lib/python3.7/dist-packages (from rich>=8.0->cobra) (2.6.1)\n",
            "Requirement already satisfied: python-dateutil>=2.7.3 in /usr/local/lib/python3.7/dist-packages (from pandas~=1.0->cobra) (2.8.1)\n",
            "Requirement already satisfied: pytz>=2017.2 in /usr/local/lib/python3.7/dist-packages (from pandas~=1.0->cobra) (2018.9)\n",
            "Requirement already satisfied: importlib-metadata; python_version < \"3.8\" in /usr/local/lib/python3.7/dist-packages (from depinfo->cobra) (3.10.1)\n",
            "Requirement already satisfied: mpmath>=0.19 in /usr/local/lib/python3.7/dist-packages (from sympy>=1.0->optlang~=1.5->cobra) (1.2.1)\n",
            "Requirement already satisfied: idna; extra == \"idna2008\" in /usr/local/lib/python3.7/dist-packages (from rfc3986[idna2008]<2,>=1.3->httpx~=0.14->cobra) (2.10)\n",
            "Collecting h11<0.13,>=0.11\n",
            "\u001b[?25l  Downloading https://files.pythonhosted.org/packages/60/0f/7a0eeea938eaf61074f29fed9717f2010e8d0e0905d36b38d3275a1e4622/h11-0.12.0-py3-none-any.whl (54kB)\n",
            "\u001b[K     |████████████████████████████████| 61kB 8.4MB/s \n",
            "\u001b[?25hInstalling collected packages: swiglpk, optlang, ruamel.yaml.clib, ruamel.yaml, python-libsbml, sniffio, rfc3986, h11, httpcore, httpx, pydantic, colorama, commonmark, rich, diskcache, depinfo, cobra\n",
            "Successfully installed cobra-0.22.0 colorama-0.4.4 commonmark-0.9.1 depinfo-1.7.0 diskcache-5.2.1 h11-0.12.0 httpcore-0.13.3 httpx-0.18.1 optlang-1.5.2 pydantic-1.8.1 python-libsbml-5.19.0 rfc3986-1.5.0 rich-10.1.0 ruamel.yaml-0.17.4 ruamel.yaml.clib-0.2.2 sniffio-1.2.0 swiglpk-5.0.3\n"
          ],
          "name": "stdout"
        }
      ]
    },
    {
      "cell_type": "code",
      "metadata": {
        "id": "8qDJ9e5JyA6Q"
      },
      "source": [
        "import pandas as pd\n",
        "import numpy as np\n",
        "import seaborn as sns\n",
        "import requests\n",
        "import re\n",
        "import json\n",
        "\n",
        "from cobra import test"
      ],
      "execution_count": 9,
      "outputs": []
    },
    {
      "cell_type": "markdown",
      "metadata": {
        "id": "HuoCS7NmuwOd"
      },
      "source": [
        "**Task 1**\n",
        "\n",
        "1) DON\n",
        "2) TPA\n",
        "3) NIC"
      ]
    },
    {
      "cell_type": "markdown",
      "metadata": {
        "id": "68PCY8Ihvvog"
      },
      "source": [
        "**Task 2**"
      ]
    },
    {
      "cell_type": "code",
      "metadata": {
        "colab": {
          "base_uri": "https://localhost:8080/",
          "height": 363
        },
        "id": "LqoVsQv8usfV",
        "outputId": "7ad5dee9-fa1f-469a-ee5c-30c0ca04b191"
      },
      "source": [
        "data = pd.read_csv('/content/data_for_task2.csv')\n",
        "data"
      ],
      "execution_count": null,
      "outputs": [
        {
          "output_type": "execute_result",
          "data": {
            "text/html": [
              "<div>\n",
              "<style scoped>\n",
              "    .dataframe tbody tr th:only-of-type {\n",
              "        vertical-align: middle;\n",
              "    }\n",
              "\n",
              "    .dataframe tbody tr th {\n",
              "        vertical-align: top;\n",
              "    }\n",
              "\n",
              "    .dataframe thead th {\n",
              "        text-align: right;\n",
              "    }\n",
              "</style>\n",
              "<table border=\"1\" class=\"dataframe\">\n",
              "  <thead>\n",
              "    <tr style=\"text-align: right;\">\n",
              "      <th></th>\n",
              "      <th>species</th>\n",
              "      <th>genus</th>\n",
              "      <th>group</th>\n",
              "      <th>sucrose</th>\n",
              "      <th>alanin</th>\n",
              "      <th>citrate</th>\n",
              "      <th>glucose</th>\n",
              "      <th>oleic_acid</th>\n",
              "    </tr>\n",
              "  </thead>\n",
              "  <tbody>\n",
              "    <tr>\n",
              "      <th>0</th>\n",
              "      <td>Fucus_vesiculosus</td>\n",
              "      <td>Fucus</td>\n",
              "      <td>brown</td>\n",
              "      <td>3.001472</td>\n",
              "      <td>3.711498</td>\n",
              "      <td>5.004262</td>\n",
              "      <td>2.548459</td>\n",
              "      <td>6.405165</td>\n",
              "    </tr>\n",
              "    <tr>\n",
              "      <th>1</th>\n",
              "      <td>Saccharina_japonica</td>\n",
              "      <td>Saccharina</td>\n",
              "      <td>brown</td>\n",
              "      <td>6.731070</td>\n",
              "      <td>1.255251</td>\n",
              "      <td>5.621499</td>\n",
              "      <td>6.013219</td>\n",
              "      <td>4.156700</td>\n",
              "    </tr>\n",
              "    <tr>\n",
              "      <th>2</th>\n",
              "      <td>Fucus_serratus</td>\n",
              "      <td>Fucus</td>\n",
              "      <td>brown</td>\n",
              "      <td>3.276870</td>\n",
              "      <td>0.346431</td>\n",
              "      <td>1.216767</td>\n",
              "      <td>3.623225</td>\n",
              "      <td>0.304573</td>\n",
              "    </tr>\n",
              "    <tr>\n",
              "      <th>3</th>\n",
              "      <td>Fucus_distichus</td>\n",
              "      <td>Fucus</td>\n",
              "      <td>brown</td>\n",
              "      <td>6.786996</td>\n",
              "      <td>6.641303</td>\n",
              "      <td>6.423606</td>\n",
              "      <td>2.272724</td>\n",
              "      <td>3.393203</td>\n",
              "    </tr>\n",
              "    <tr>\n",
              "      <th>4</th>\n",
              "      <td>Cladophora_fracta</td>\n",
              "      <td>Cladophora</td>\n",
              "      <td>green</td>\n",
              "      <td>3.861470</td>\n",
              "      <td>1.648450</td>\n",
              "      <td>6.940588</td>\n",
              "      <td>2.316955</td>\n",
              "      <td>2.528886</td>\n",
              "    </tr>\n",
              "    <tr>\n",
              "      <th>5</th>\n",
              "      <td>Cladophora_compacta</td>\n",
              "      <td>Cladophora</td>\n",
              "      <td>green</td>\n",
              "      <td>5.712284</td>\n",
              "      <td>3.461692</td>\n",
              "      <td>3.082826</td>\n",
              "      <td>3.343707</td>\n",
              "      <td>1.432514</td>\n",
              "    </tr>\n",
              "    <tr>\n",
              "      <th>6</th>\n",
              "      <td>Cladophora_gracilis</td>\n",
              "      <td>Cladophora</td>\n",
              "      <td>green</td>\n",
              "      <td>2.452623</td>\n",
              "      <td>6.881024</td>\n",
              "      <td>5.841520</td>\n",
              "      <td>2.740165</td>\n",
              "      <td>2.829016</td>\n",
              "    </tr>\n",
              "    <tr>\n",
              "      <th>7</th>\n",
              "      <td>Palmaria_palmata</td>\n",
              "      <td>Palmaria</td>\n",
              "      <td>red</td>\n",
              "      <td>0.704580</td>\n",
              "      <td>3.176440</td>\n",
              "      <td>5.573905</td>\n",
              "      <td>3.242090</td>\n",
              "      <td>2.245538</td>\n",
              "    </tr>\n",
              "    <tr>\n",
              "      <th>8</th>\n",
              "      <td>Saccharina_latissima</td>\n",
              "      <td>Saccharina</td>\n",
              "      <td>brown</td>\n",
              "      <td>1.636122</td>\n",
              "      <td>5.793163</td>\n",
              "      <td>1.071920</td>\n",
              "      <td>3.947968</td>\n",
              "      <td>4.817804</td>\n",
              "    </tr>\n",
              "    <tr>\n",
              "      <th>9</th>\n",
              "      <td>Ascophyllum_nodosum</td>\n",
              "      <td>Ascophyllum</td>\n",
              "      <td>brown</td>\n",
              "      <td>6.825467</td>\n",
              "      <td>0.875429</td>\n",
              "      <td>5.253527</td>\n",
              "      <td>3.414961</td>\n",
              "      <td>2.432526</td>\n",
              "    </tr>\n",
              "  </tbody>\n",
              "</table>\n",
              "</div>"
            ],
            "text/plain": [
              "                species        genus  group  ...   citrate   glucose  oleic_acid\n",
              "0     Fucus_vesiculosus        Fucus  brown  ...  5.004262  2.548459    6.405165\n",
              "1   Saccharina_japonica   Saccharina  brown  ...  5.621499  6.013219    4.156700\n",
              "2        Fucus_serratus        Fucus  brown  ...  1.216767  3.623225    0.304573\n",
              "3       Fucus_distichus        Fucus  brown  ...  6.423606  2.272724    3.393203\n",
              "4     Cladophora_fracta   Cladophora  green  ...  6.940588  2.316955    2.528886\n",
              "5   Cladophora_compacta   Cladophora  green  ...  3.082826  3.343707    1.432514\n",
              "6   Cladophora_gracilis   Cladophora  green  ...  5.841520  2.740165    2.829016\n",
              "7      Palmaria_palmata     Palmaria    red  ...  5.573905  3.242090    2.245538\n",
              "8  Saccharina_latissima   Saccharina  brown  ...  1.071920  3.947968    4.817804\n",
              "9   Ascophyllum_nodosum  Ascophyllum  brown  ...  5.253527  3.414961    2.432526\n",
              "\n",
              "[10 rows x 8 columns]"
            ]
          },
          "metadata": {
            "tags": []
          },
          "execution_count": 2
        }
      ]
    },
    {
      "cell_type": "code",
      "metadata": {
        "colab": {
          "base_uri": "https://localhost:8080/"
        },
        "id": "SzosMH77B-2M",
        "outputId": "6d4f3062-5150-4633-c62e-30479af02fa4"
      },
      "source": [
        "fucus = data[data['genus'] == 'Fucus']\n",
        "fucus_mean = fucus.mean()\n",
        "fucus_mean"
      ],
      "execution_count": null,
      "outputs": [
        {
          "output_type": "execute_result",
          "data": {
            "text/plain": [
              "sucrose       4.355112\n",
              "alanin        3.566411\n",
              "citrate       4.214878\n",
              "glucose       2.814803\n",
              "oleic_acid    3.367647\n",
              "dtype: float64"
            ]
          },
          "metadata": {
            "tags": []
          },
          "execution_count": 6
        }
      ]
    },
    {
      "cell_type": "code",
      "metadata": {
        "colab": {
          "base_uri": "https://localhost:8080/"
        },
        "id": "ywyc4IeeC2jJ",
        "outputId": "b1fb383d-2e75-4acf-f809-36fb2e4a2161"
      },
      "source": [
        "saccharina = data[data['genus'] == 'Saccharina']\n",
        "saccharina_mean = saccharina.mean()\n",
        "saccharina_mean"
      ],
      "execution_count": null,
      "outputs": [
        {
          "output_type": "execute_result",
          "data": {
            "text/plain": [
              "sucrose       4.183596\n",
              "alanin        3.524207\n",
              "citrate       3.346710\n",
              "glucose       4.980594\n",
              "oleic_acid    4.487252\n",
              "dtype: float64"
            ]
          },
          "metadata": {
            "tags": []
          },
          "execution_count": 7
        }
      ]
    },
    {
      "cell_type": "code",
      "metadata": {
        "colab": {
          "base_uri": "https://localhost:8080/"
        },
        "id": "F9D1zMZtEngP",
        "outputId": "d22871a3-a7fd-446e-f068-493869afeea0"
      },
      "source": [
        "cladophora = data[data['genus'] == 'Cladophora']\n",
        "cladophora_mean = cladophora.mean()\n",
        "cladophora_mean"
      ],
      "execution_count": null,
      "outputs": [
        {
          "output_type": "execute_result",
          "data": {
            "text/plain": [
              "sucrose       4.008792\n",
              "alanin        3.997055\n",
              "citrate       5.288311\n",
              "glucose       2.800276\n",
              "oleic_acid    2.263472\n",
              "dtype: float64"
            ]
          },
          "metadata": {
            "tags": []
          },
          "execution_count": 8
        }
      ]
    },
    {
      "cell_type": "code",
      "metadata": {
        "colab": {
          "base_uri": "https://localhost:8080/"
        },
        "id": "5MYvJTOwIfbz",
        "outputId": "0db262f7-c352-4b6d-a6d7-fcb28de87a03"
      },
      "source": [
        "palmaria = data[data['genus'] == 'Palmaria']\n",
        "palmaria_mean = palmaria.mean()\n",
        "palmaria_mean"
      ],
      "execution_count": null,
      "outputs": [
        {
          "output_type": "execute_result",
          "data": {
            "text/plain": [
              "sucrose       0.704580\n",
              "alanin        3.176440\n",
              "citrate       5.573905\n",
              "glucose       3.242090\n",
              "oleic_acid    2.245538\n",
              "dtype: float64"
            ]
          },
          "metadata": {
            "tags": []
          },
          "execution_count": 9
        }
      ]
    },
    {
      "cell_type": "code",
      "metadata": {
        "colab": {
          "base_uri": "https://localhost:8080/"
        },
        "id": "3gkAJjhHInpx",
        "outputId": "f4e9cbab-f21f-4710-d3c7-f2089c317746"
      },
      "source": [
        "ascophyllum = data[data['genus'] == 'Ascophyllum']\n",
        "ascophyllum_mean = ascophyllum.mean()\n",
        "ascophyllum_mean"
      ],
      "execution_count": null,
      "outputs": [
        {
          "output_type": "execute_result",
          "data": {
            "text/plain": [
              "sucrose       6.825467\n",
              "alanin        0.875429\n",
              "citrate       5.253527\n",
              "glucose       3.414961\n",
              "oleic_acid    2.432526\n",
              "dtype: float64"
            ]
          },
          "metadata": {
            "tags": []
          },
          "execution_count": 10
        }
      ]
    },
    {
      "cell_type": "code",
      "metadata": {
        "colab": {
          "base_uri": "https://localhost:8080/",
          "height": 206
        },
        "id": "j3LLhIl5JqhO",
        "outputId": "cc8299e8-521d-4458-9dfb-eb773916d7db"
      },
      "source": [
        "means = {\"fucus\": fucus_mean,\n",
        "        \"saccharina\": saccharina_mean,\n",
        "        \"cladophora\": cladophora_mean,\n",
        "        \"palmaria\" : palmaria_mean,\n",
        "        \"ascophyllum\" : ascophyllum_mean}\n",
        "\n",
        "df = pd.concat(means,\n",
        "               axis = 1)\n",
        "\n",
        "df = df.T\n",
        "df = df.reset_index()\n",
        "df = df.rename(columns={'index' : 'genus'})\n",
        "df"
      ],
      "execution_count": null,
      "outputs": [
        {
          "output_type": "execute_result",
          "data": {
            "text/html": [
              "<div>\n",
              "<style scoped>\n",
              "    .dataframe tbody tr th:only-of-type {\n",
              "        vertical-align: middle;\n",
              "    }\n",
              "\n",
              "    .dataframe tbody tr th {\n",
              "        vertical-align: top;\n",
              "    }\n",
              "\n",
              "    .dataframe thead th {\n",
              "        text-align: right;\n",
              "    }\n",
              "</style>\n",
              "<table border=\"1\" class=\"dataframe\">\n",
              "  <thead>\n",
              "    <tr style=\"text-align: right;\">\n",
              "      <th></th>\n",
              "      <th>genus</th>\n",
              "      <th>sucrose</th>\n",
              "      <th>alanin</th>\n",
              "      <th>citrate</th>\n",
              "      <th>glucose</th>\n",
              "      <th>oleic_acid</th>\n",
              "    </tr>\n",
              "  </thead>\n",
              "  <tbody>\n",
              "    <tr>\n",
              "      <th>0</th>\n",
              "      <td>fucus</td>\n",
              "      <td>4.355112</td>\n",
              "      <td>3.566411</td>\n",
              "      <td>4.214878</td>\n",
              "      <td>2.814803</td>\n",
              "      <td>3.367647</td>\n",
              "    </tr>\n",
              "    <tr>\n",
              "      <th>1</th>\n",
              "      <td>saccharina</td>\n",
              "      <td>4.183596</td>\n",
              "      <td>3.524207</td>\n",
              "      <td>3.346710</td>\n",
              "      <td>4.980594</td>\n",
              "      <td>4.487252</td>\n",
              "    </tr>\n",
              "    <tr>\n",
              "      <th>2</th>\n",
              "      <td>cladophora</td>\n",
              "      <td>4.008792</td>\n",
              "      <td>3.997055</td>\n",
              "      <td>5.288311</td>\n",
              "      <td>2.800276</td>\n",
              "      <td>2.263472</td>\n",
              "    </tr>\n",
              "    <tr>\n",
              "      <th>3</th>\n",
              "      <td>palmaria</td>\n",
              "      <td>0.704580</td>\n",
              "      <td>3.176440</td>\n",
              "      <td>5.573905</td>\n",
              "      <td>3.242090</td>\n",
              "      <td>2.245538</td>\n",
              "    </tr>\n",
              "    <tr>\n",
              "      <th>4</th>\n",
              "      <td>ascophyllum</td>\n",
              "      <td>6.825467</td>\n",
              "      <td>0.875429</td>\n",
              "      <td>5.253527</td>\n",
              "      <td>3.414961</td>\n",
              "      <td>2.432526</td>\n",
              "    </tr>\n",
              "  </tbody>\n",
              "</table>\n",
              "</div>"
            ],
            "text/plain": [
              "         genus   sucrose    alanin   citrate   glucose  oleic_acid\n",
              "0        fucus  4.355112  3.566411  4.214878  2.814803    3.367647\n",
              "1   saccharina  4.183596  3.524207  3.346710  4.980594    4.487252\n",
              "2   cladophora  4.008792  3.997055  5.288311  2.800276    2.263472\n",
              "3     palmaria  0.704580  3.176440  5.573905  3.242090    2.245538\n",
              "4  ascophyllum  6.825467  0.875429  5.253527  3.414961    2.432526"
            ]
          },
          "metadata": {
            "tags": []
          },
          "execution_count": 45
        }
      ]
    },
    {
      "cell_type": "code",
      "metadata": {
        "colab": {
          "base_uri": "https://localhost:8080/",
          "height": 834
        },
        "id": "FdnraJNVUxj3",
        "outputId": "5443bc03-bb54-4c5e-999a-4126610131b5"
      },
      "source": [
        "long_df = pd.melt(\n",
        "    frame = df,\n",
        "    id_vars = 'genus')\n",
        "\n",
        "long_df = long_df.rename(columns={'variable' : 'metabolite'})\n",
        "\n",
        "long_df"
      ],
      "execution_count": null,
      "outputs": [
        {
          "output_type": "execute_result",
          "data": {
            "text/html": [
              "<div>\n",
              "<style scoped>\n",
              "    .dataframe tbody tr th:only-of-type {\n",
              "        vertical-align: middle;\n",
              "    }\n",
              "\n",
              "    .dataframe tbody tr th {\n",
              "        vertical-align: top;\n",
              "    }\n",
              "\n",
              "    .dataframe thead th {\n",
              "        text-align: right;\n",
              "    }\n",
              "</style>\n",
              "<table border=\"1\" class=\"dataframe\">\n",
              "  <thead>\n",
              "    <tr style=\"text-align: right;\">\n",
              "      <th></th>\n",
              "      <th>genus</th>\n",
              "      <th>metabolite</th>\n",
              "      <th>value</th>\n",
              "    </tr>\n",
              "  </thead>\n",
              "  <tbody>\n",
              "    <tr>\n",
              "      <th>0</th>\n",
              "      <td>fucus</td>\n",
              "      <td>sucrose</td>\n",
              "      <td>4.355112</td>\n",
              "    </tr>\n",
              "    <tr>\n",
              "      <th>1</th>\n",
              "      <td>saccharina</td>\n",
              "      <td>sucrose</td>\n",
              "      <td>4.183596</td>\n",
              "    </tr>\n",
              "    <tr>\n",
              "      <th>2</th>\n",
              "      <td>cladophora</td>\n",
              "      <td>sucrose</td>\n",
              "      <td>4.008792</td>\n",
              "    </tr>\n",
              "    <tr>\n",
              "      <th>3</th>\n",
              "      <td>palmaria</td>\n",
              "      <td>sucrose</td>\n",
              "      <td>0.704580</td>\n",
              "    </tr>\n",
              "    <tr>\n",
              "      <th>4</th>\n",
              "      <td>ascophyllum</td>\n",
              "      <td>sucrose</td>\n",
              "      <td>6.825467</td>\n",
              "    </tr>\n",
              "    <tr>\n",
              "      <th>5</th>\n",
              "      <td>fucus</td>\n",
              "      <td>alanin</td>\n",
              "      <td>3.566411</td>\n",
              "    </tr>\n",
              "    <tr>\n",
              "      <th>6</th>\n",
              "      <td>saccharina</td>\n",
              "      <td>alanin</td>\n",
              "      <td>3.524207</td>\n",
              "    </tr>\n",
              "    <tr>\n",
              "      <th>7</th>\n",
              "      <td>cladophora</td>\n",
              "      <td>alanin</td>\n",
              "      <td>3.997055</td>\n",
              "    </tr>\n",
              "    <tr>\n",
              "      <th>8</th>\n",
              "      <td>palmaria</td>\n",
              "      <td>alanin</td>\n",
              "      <td>3.176440</td>\n",
              "    </tr>\n",
              "    <tr>\n",
              "      <th>9</th>\n",
              "      <td>ascophyllum</td>\n",
              "      <td>alanin</td>\n",
              "      <td>0.875429</td>\n",
              "    </tr>\n",
              "    <tr>\n",
              "      <th>10</th>\n",
              "      <td>fucus</td>\n",
              "      <td>citrate</td>\n",
              "      <td>4.214878</td>\n",
              "    </tr>\n",
              "    <tr>\n",
              "      <th>11</th>\n",
              "      <td>saccharina</td>\n",
              "      <td>citrate</td>\n",
              "      <td>3.346710</td>\n",
              "    </tr>\n",
              "    <tr>\n",
              "      <th>12</th>\n",
              "      <td>cladophora</td>\n",
              "      <td>citrate</td>\n",
              "      <td>5.288311</td>\n",
              "    </tr>\n",
              "    <tr>\n",
              "      <th>13</th>\n",
              "      <td>palmaria</td>\n",
              "      <td>citrate</td>\n",
              "      <td>5.573905</td>\n",
              "    </tr>\n",
              "    <tr>\n",
              "      <th>14</th>\n",
              "      <td>ascophyllum</td>\n",
              "      <td>citrate</td>\n",
              "      <td>5.253527</td>\n",
              "    </tr>\n",
              "    <tr>\n",
              "      <th>15</th>\n",
              "      <td>fucus</td>\n",
              "      <td>glucose</td>\n",
              "      <td>2.814803</td>\n",
              "    </tr>\n",
              "    <tr>\n",
              "      <th>16</th>\n",
              "      <td>saccharina</td>\n",
              "      <td>glucose</td>\n",
              "      <td>4.980594</td>\n",
              "    </tr>\n",
              "    <tr>\n",
              "      <th>17</th>\n",
              "      <td>cladophora</td>\n",
              "      <td>glucose</td>\n",
              "      <td>2.800276</td>\n",
              "    </tr>\n",
              "    <tr>\n",
              "      <th>18</th>\n",
              "      <td>palmaria</td>\n",
              "      <td>glucose</td>\n",
              "      <td>3.242090</td>\n",
              "    </tr>\n",
              "    <tr>\n",
              "      <th>19</th>\n",
              "      <td>ascophyllum</td>\n",
              "      <td>glucose</td>\n",
              "      <td>3.414961</td>\n",
              "    </tr>\n",
              "    <tr>\n",
              "      <th>20</th>\n",
              "      <td>fucus</td>\n",
              "      <td>oleic_acid</td>\n",
              "      <td>3.367647</td>\n",
              "    </tr>\n",
              "    <tr>\n",
              "      <th>21</th>\n",
              "      <td>saccharina</td>\n",
              "      <td>oleic_acid</td>\n",
              "      <td>4.487252</td>\n",
              "    </tr>\n",
              "    <tr>\n",
              "      <th>22</th>\n",
              "      <td>cladophora</td>\n",
              "      <td>oleic_acid</td>\n",
              "      <td>2.263472</td>\n",
              "    </tr>\n",
              "    <tr>\n",
              "      <th>23</th>\n",
              "      <td>palmaria</td>\n",
              "      <td>oleic_acid</td>\n",
              "      <td>2.245538</td>\n",
              "    </tr>\n",
              "    <tr>\n",
              "      <th>24</th>\n",
              "      <td>ascophyllum</td>\n",
              "      <td>oleic_acid</td>\n",
              "      <td>2.432526</td>\n",
              "    </tr>\n",
              "  </tbody>\n",
              "</table>\n",
              "</div>"
            ],
            "text/plain": [
              "          genus  metabolite     value\n",
              "0         fucus     sucrose  4.355112\n",
              "1    saccharina     sucrose  4.183596\n",
              "2    cladophora     sucrose  4.008792\n",
              "3      palmaria     sucrose  0.704580\n",
              "4   ascophyllum     sucrose  6.825467\n",
              "5         fucus      alanin  3.566411\n",
              "6    saccharina      alanin  3.524207\n",
              "7    cladophora      alanin  3.997055\n",
              "8      palmaria      alanin  3.176440\n",
              "9   ascophyllum      alanin  0.875429\n",
              "10        fucus     citrate  4.214878\n",
              "11   saccharina     citrate  3.346710\n",
              "12   cladophora     citrate  5.288311\n",
              "13     palmaria     citrate  5.573905\n",
              "14  ascophyllum     citrate  5.253527\n",
              "15        fucus     glucose  2.814803\n",
              "16   saccharina     glucose  4.980594\n",
              "17   cladophora     glucose  2.800276\n",
              "18     palmaria     glucose  3.242090\n",
              "19  ascophyllum     glucose  3.414961\n",
              "20        fucus  oleic_acid  3.367647\n",
              "21   saccharina  oleic_acid  4.487252\n",
              "22   cladophora  oleic_acid  2.263472\n",
              "23     palmaria  oleic_acid  2.245538\n",
              "24  ascophyllum  oleic_acid  2.432526"
            ]
          },
          "metadata": {
            "tags": []
          },
          "execution_count": 49
        }
      ]
    },
    {
      "cell_type": "code",
      "metadata": {
        "colab": {
          "base_uri": "https://localhost:8080/",
          "height": 789
        },
        "id": "aYXdXmRLJmlq",
        "outputId": "34481f6a-7099-46e7-9ad3-e4ba11fa42d8"
      },
      "source": [
        "sns.set(rc={'figure.figsize':(12,11)})\n",
        "\n",
        "g = sns.barplot(x=\"metabolite\",\n",
        "                y=\"value\", \n",
        "                hue=\"genus\", \n",
        "                data = long_df)\n",
        "\n",
        "g.set_xticklabels(g.get_xticklabels(),\n",
        "                  rotation=45)"
      ],
      "execution_count": null,
      "outputs": [
        {
          "output_type": "execute_result",
          "data": {
            "text/plain": [
              "[Text(0, 0, 'sucrose'),\n",
              " Text(0, 0, 'alanin'),\n",
              " Text(0, 0, 'citrate'),\n",
              " Text(0, 0, 'glucose'),\n",
              " Text(0, 0, 'oleic_acid')]"
            ]
          },
          "metadata": {
            "tags": []
          },
          "execution_count": 50
        },
        {
          "output_type": "display_data",
          "data": {
            "image/png": "[encoded data removed]",
            "text/plain": [
              "<Figure size 864x792 with 1 Axes>"
            ]
          },
          "metadata": {
            "tags": []
          }
        }
      ]
    },
    {
      "cell_type": "markdown",
      "metadata": {
        "id": "iaJQ8ZWSWSjW"
      },
      "source": [
        "**Task 3**"
      ]
    },
    {
      "cell_type": "code",
      "metadata": {
        "colab": {
          "base_uri": "https://localhost:8080/"
        },
        "id": "mW4NRTPXgokO",
        "outputId": "9b25e1e1-1e5d-4e87-d9b2-70b751251383"
      },
      "source": [
        "numbers = [1, 2, 3, 4, 5, 6]\n",
        "my_iter = map(lambda x: True if x % 3 == 0 else False, numbers)\n",
        "def f(iterable):\n",
        "    while True:\n",
        "        try:\n",
        "            yield next(iterable)\n",
        "        except StopIteration:\n",
        "            break"
      ],
      "execution_count": null,
      "outputs": [
        {
          "output_type": "stream",
          "text": [
            "<generator object f at 0x7f6bbfcb0250>\n"
          ],
          "name": "stdout"
        }
      ]
    },
    {
      "cell_type": "markdown",
      "metadata": {
        "id": "TShjVwQL5sIV"
      },
      "source": [
        "**Task 4**"
      ]
    },
    {
      "cell_type": "code",
      "metadata": {
        "colab": {
          "base_uri": "https://localhost:8080/"
        },
        "id": "4LYGLf3R5t0m",
        "outputId": "d7ccc116-87b8-4085-ef0b-a434de412115"
      },
      "source": [
        "nums = [22, 43, 264, 1990]\n",
        "\n",
        "for num in nums:\n",
        "    print(\"\\t\")\n",
        "    print(requests.get(\"http://numbersapi.com/\" + str(num) + \"/math\").text)\n",
        "    print(requests.get(\"http://numbersapi.com/\" + str(num) + \"/trivia\").text)"
      ],
      "execution_count": 4,
      "outputs": [
        {
          "output_type": "stream",
          "text": [
            "\t\n",
            "22 is the number of partitions of 8.\n",
            "22 is the number of yards in a chain.\n",
            "\t\n",
            "43 is the 14th smallest prime number.\n",
            "43 is the maximum number of cars participating in a NASCAR race in the Cup Series or Nationwide Series.\n",
            "\t\n",
            "264 is the largest known number whose square is undulating.\n",
            "264 is a number for which we're missing a fact (submit one to numbersapi at google mail!).\n",
            "\t\n",
            "1990 is a stella octangula number.\n",
            "1990 is a boring number.\n"
          ],
          "name": "stdout"
        }
      ]
    },
    {
      "cell_type": "markdown",
      "metadata": {
        "id": "UmzOfA1Y5vXV"
      },
      "source": [
        "**Task 5**"
      ]
    },
    {
      "cell_type": "code",
      "metadata": {
        "colab": {
          "base_uri": "https://localhost:8080/",
          "height": 619
        },
        "id": "cxbcKoQ75wkA",
        "outputId": "5772c53f-32ca-4c67-9308-2fe1c197feb3"
      },
      "source": [
        "model = test.create_test_model(\"textbook\") # Name: e_coli_core\n",
        "\n",
        "model.metabolites.nadh_c.summary(fva=0.95)\n",
        "model.genes.b3236.knock_out()\n",
        "model.optimize()\n",
        "model.metabolites.nadh_c.summary(fva=0.95)"
      ],
      "execution_count": 10,
      "outputs": [
        {
          "output_type": "execute_result",
          "data": {
            "text/html": [
              "<h3>nadh_c</h3><p>C21H27N7O14P2</p><h4>Producing Reactions</h4><table border=\"1\" class=\"dataframe\">\n",
              "  <thead>\n",
              "    <tr style=\"text-align: right;\">\n",
              "      <th>Percent</th>\n",
              "      <th>Flux</th>\n",
              "      <th>Range</th>\n",
              "      <th>Reaction</th>\n",
              "      <th>Definition</th>\n",
              "    </tr>\n",
              "  </thead>\n",
              "  <tbody>\n",
              "    <tr>\n",
              "      <td>0.00%</td>\n",
              "      <td>0</td>\n",
              "      <td>[-1.513;  0]</td>\n",
              "      <td>ACALD</td>\n",
              "      <td>acald_c + coa_c + nad_c &lt;=&gt; accoa_c + h_c + nadh_c</td>\n",
              "    </tr>\n",
              "    <tr>\n",
              "      <td>18.46%</td>\n",
              "      <td>7.449</td>\n",
              "      <td>[0;  8.076]</td>\n",
              "      <td>AKGDH</td>\n",
              "      <td>akg_c + coa_c + nad_c --&gt; co2_c + nadh_c + succoa_c</td>\n",
              "    </tr>\n",
              "    <tr>\n",
              "      <td>0.00%</td>\n",
              "      <td>0</td>\n",
              "      <td>[-1.242;  0]</td>\n",
              "      <td>ALCD2x</td>\n",
              "      <td>etoh_c + nad_c &lt;=&gt; acald_c + h_c + nadh_c</td>\n",
              "    </tr>\n",
              "    <tr>\n",
              "      <td>7.26%</td>\n",
              "      <td>2.929</td>\n",
              "      <td>[2.783;  2.929]</td>\n",
              "      <td>Biomass_Ecoli_core</td>\n",
              "      <td>1.496 3pg_c + 3.7478 accoa_c + 59.81 atp_c + 0.361 e4p_c + 0.0709 f6p_c + 0.129 g3p_c + 0.205 g6p_c + 0.2557 gln__L_c + 4.9414 glu__L_c + 59.81 h2o_c + 3.547 nad_c + 13.0279 nadph_c + 1.7867 oaa_c + 0.5191 pep_c + 2.8328 pyr_c + 0.8977 r5p_c --&gt; 59.81 adp_c + 4.1182 akg_c + 3.7478 coa_c + 59.81 h_c + 3.547 nadh_c + 13.0279 nadp_c + 59.81 pi_c</td>\n",
              "    </tr>\n",
              "    <tr>\n",
              "      <td>44.12%</td>\n",
              "      <td>17.8</td>\n",
              "      <td>[9.838;  17.91]</td>\n",
              "      <td>GAPD</td>\n",
              "      <td>g3p_c + nad_c + pi_c &lt;=&gt; 13dpg_c + h_c + nadh_c</td>\n",
              "    </tr>\n",
              "    <tr>\n",
              "      <td>0.00%</td>\n",
              "      <td>0</td>\n",
              "      <td>[-1.188;  0]</td>\n",
              "      <td>LDH_D</td>\n",
              "      <td>lac__D_c + nad_c &lt;=&gt; h_c + nadh_c + pyr_c</td>\n",
              "    </tr>\n",
              "    <tr>\n",
              "      <td>1.83%</td>\n",
              "      <td>0.738</td>\n",
              "      <td>[0;  11.9]</td>\n",
              "      <td>ME1</td>\n",
              "      <td>mal__L_c + nad_c --&gt; co2_c + nadh_c + pyr_c</td>\n",
              "    </tr>\n",
              "    <tr>\n",
              "      <td>0.00%</td>\n",
              "      <td>0</td>\n",
              "      <td>[0;  44.63]</td>\n",
              "      <td>NADTRHD</td>\n",
              "      <td>nad_c + nadph_c --&gt; nadh_c + nadp_c</td>\n",
              "    </tr>\n",
              "    <tr>\n",
              "      <td>28.34%</td>\n",
              "      <td>11.43</td>\n",
              "      <td>[0.5791;  18.69]</td>\n",
              "      <td>PDH</td>\n",
              "      <td>coa_c + nad_c + pyr_c --&gt; accoa_c + co2_c + nadh_c</td>\n",
              "    </tr>\n",
              "  </tbody>\n",
              "</table><h4>Consuming Reactions</h4><table border=\"1\" class=\"dataframe\">\n",
              "  <thead>\n",
              "    <tr style=\"text-align: right;\">\n",
              "      <th>Percent</th>\n",
              "      <th>Flux</th>\n",
              "      <th>Range</th>\n",
              "      <th>Reaction</th>\n",
              "      <th>Definition</th>\n",
              "    </tr>\n",
              "  </thead>\n",
              "  <tbody>\n",
              "    <tr>\n",
              "      <td>100.00%</td>\n",
              "      <td>-40.36</td>\n",
              "      <td>[-51.41;  -35.29]</td>\n",
              "      <td>NADH16</td>\n",
              "      <td>4.0 h_c + nadh_c + q8_c --&gt; 3.0 h_e + nad_c + q8h2_c</td>\n",
              "    </tr>\n",
              "    <tr>\n",
              "      <td>0.00%</td>\n",
              "      <td>0</td>\n",
              "      <td>[-13.66;  0]</td>\n",
              "      <td>THD2</td>\n",
              "      <td>2.0 h_e + nadh_c + nadp_c --&gt; 2.0 h_c + nad_c + nadph_c</td>\n",
              "    </tr>\n",
              "  </tbody>\n",
              "</table>"
            ],
            "text/plain": [
              "<cobra.summary.metabolite_summary.MetaboliteSummary at 0x7fce1e8b5190>"
            ]
          },
          "metadata": {
            "tags": []
          },
          "execution_count": 10
        }
      ]
    }
  ]
}